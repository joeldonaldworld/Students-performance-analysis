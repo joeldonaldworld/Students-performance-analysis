{
 "cells": [
  {
   "cell_type": "code",
   "execution_count": 61,
   "id": "31cf888d",
   "metadata": {},
   "outputs": [],
   "source": [
    "# Import Panda library\n",
    "import pandas as pd\n"
   ]
  },
  {
   "cell_type": "code",
   "execution_count": 62,
   "id": "fe0add88",
   "metadata": {},
   "outputs": [],
   "source": [
    "# Import more libraries\n",
    "import numpy as np\n",
    "import matplotlib.pyplot as plt\n",
    "import seaborn as sns\n",
    "import sklearn\n"
   ]
  },
  {
   "cell_type": "code",
   "execution_count": 63,
   "id": "152526ce",
   "metadata": {},
   "outputs": [],
   "source": [
    "# upload csv data\n",
    "df = pd.read_csv('StudentsPerformance.csv')"
   ]
  },
  {
   "cell_type": "code",
   "execution_count": 4,
   "id": "aec765c9",
   "metadata": {},
   "outputs": [
    {
     "name": "stdout",
     "output_type": "stream",
     "text": [
      "   Hours_Studied  Attendance Parental_Involvement Access_to_Resources  \\\n",
      "0             23          84                  Low                High   \n",
      "1             19          64                  Low              Medium   \n",
      "2             24          98               Medium              Medium   \n",
      "3             29          89                  Low              Medium   \n",
      "4             19          92               Medium              Medium   \n",
      "\n",
      "  Extracurricular_Activities  Sleep_Hours  Previous_Scores Motivation_Level  \\\n",
      "0                         No            7               73              Low   \n",
      "1                         No            8               59              Low   \n",
      "2                        Yes            7               91           Medium   \n",
      "3                        Yes            8               98           Medium   \n",
      "4                        Yes            6               65           Medium   \n",
      "\n",
      "  Internet_Access  Tutoring_Sessions Family_Income Teacher_Quality  \\\n",
      "0             Yes                  0           Low          Medium   \n",
      "1             Yes                  2        Medium          Medium   \n",
      "2             Yes                  2        Medium          Medium   \n",
      "3             Yes                  1        Medium          Medium   \n",
      "4             Yes                  3        Medium            High   \n",
      "\n",
      "  School_Type Peer_Influence  Physical_Activity Learning_Disabilities  \\\n",
      "0      Public       Positive                  3                    No   \n",
      "1      Public       Negative                  4                    No   \n",
      "2      Public        Neutral                  4                    No   \n",
      "3      Public       Negative                  4                    No   \n",
      "4      Public        Neutral                  4                    No   \n",
      "\n",
      "  Parental_Education_Level Distance_from_Home  Gender  Exam_Score  \n",
      "0              High School               Near    Male          67  \n",
      "1                  College           Moderate  Female          61  \n",
      "2             Postgraduate               Near    Male          74  \n",
      "3              High School           Moderate    Male          71  \n",
      "4                  College               Near  Female          70  \n"
     ]
    }
   ],
   "source": [
    "# Display top rows of the table\n",
    "print(df.head())"
   ]
  },
  {
   "cell_type": "code",
   "execution_count": 6,
   "id": "09141c0d",
   "metadata": {},
   "outputs": [
    {
     "name": "stdout",
     "output_type": "stream",
     "text": [
      "      Hours_Studied  Attendance Parental_Involvement Access_to_Resources  \\\n",
      "0                23          84                  Low                High   \n",
      "1                19          64                  Low              Medium   \n",
      "2                24          98               Medium              Medium   \n",
      "3                29          89                  Low              Medium   \n",
      "4                19          92               Medium              Medium   \n",
      "...             ...         ...                  ...                 ...   \n",
      "6373             25          69                 High              Medium   \n",
      "6374             23          76                 High              Medium   \n",
      "6375             20          90               Medium                 Low   \n",
      "6376             10          86                 High                High   \n",
      "6377             15          67               Medium                 Low   \n",
      "\n",
      "     Extracurricular_Activities  Sleep_Hours  Previous_Scores  \\\n",
      "0                            No            7               73   \n",
      "1                            No            8               59   \n",
      "2                           Yes            7               91   \n",
      "3                           Yes            8               98   \n",
      "4                           Yes            6               65   \n",
      "...                         ...          ...              ...   \n",
      "6373                         No            7               76   \n",
      "6374                         No            8               81   \n",
      "6375                        Yes            6               65   \n",
      "6376                        Yes            6               91   \n",
      "6377                        Yes            9               94   \n",
      "\n",
      "     Motivation_Level Internet_Access  Tutoring_Sessions Family_Income  \\\n",
      "0                 Low             Yes                  0           Low   \n",
      "1                 Low             Yes                  2        Medium   \n",
      "2              Medium             Yes                  2        Medium   \n",
      "3              Medium             Yes                  1        Medium   \n",
      "4              Medium             Yes                  3        Medium   \n",
      "...               ...             ...                ...           ...   \n",
      "6373           Medium             Yes                  1          High   \n",
      "6374           Medium             Yes                  3           Low   \n",
      "6375              Low             Yes                  3           Low   \n",
      "6376             High             Yes                  2           Low   \n",
      "6377           Medium             Yes                  0        Medium   \n",
      "\n",
      "     Teacher_Quality School_Type Peer_Influence  Physical_Activity  \\\n",
      "0             Medium      Public       Positive                  3   \n",
      "1             Medium      Public       Negative                  4   \n",
      "2             Medium      Public        Neutral                  4   \n",
      "3             Medium      Public       Negative                  4   \n",
      "4               High      Public        Neutral                  4   \n",
      "...              ...         ...            ...                ...   \n",
      "6373          Medium      Public       Positive                  2   \n",
      "6374            High      Public       Positive                  2   \n",
      "6375          Medium      Public       Negative                  2   \n",
      "6376          Medium     Private       Positive                  3   \n",
      "6377          Medium      Public       Positive                  4   \n",
      "\n",
      "     Learning_Disabilities Parental_Education_Level Distance_from_Home  \\\n",
      "0                       No              High School               Near   \n",
      "1                       No                  College           Moderate   \n",
      "2                       No             Postgraduate               Near   \n",
      "3                       No              High School           Moderate   \n",
      "4                       No                  College               Near   \n",
      "...                    ...                      ...                ...   \n",
      "6373                    No              High School               Near   \n",
      "6374                    No              High School               Near   \n",
      "6375                    No             Postgraduate               Near   \n",
      "6376                    No              High School                Far   \n",
      "6377                    No             Postgraduate               Near   \n",
      "\n",
      "      Gender  Exam_Score  \n",
      "0       Male          67  \n",
      "1     Female          61  \n",
      "2       Male          74  \n",
      "3       Male          71  \n",
      "4     Female          70  \n",
      "...      ...         ...  \n",
      "6373  Female          68  \n",
      "6374  Female          69  \n",
      "6375  Female          68  \n",
      "6376  Female          68  \n",
      "6377    Male          64  \n",
      "\n",
      "[6378 rows x 20 columns]\n"
     ]
    }
   ],
   "source": [
    "print(df)"
   ]
  },
  {
   "cell_type": "code",
   "execution_count": 131,
   "id": "33caced0",
   "metadata": {},
   "outputs": [
    {
     "name": "stdout",
     "output_type": "stream",
     "text": [
      "Gender\n",
      "Male      3688\n",
      "Female    2690\n",
      "Name: count, dtype: int64\n"
     ]
    }
   ],
   "source": [
    "# count of total students\n",
    "TotalStudents = df['Gender'].value_counts()\n",
    "print(TotalStudents)"
   ]
  },
  {
   "cell_type": "code",
   "execution_count": 102,
   "id": "f945c49f",
   "metadata": {},
   "outputs": [
    {
     "name": "stdout",
     "output_type": "stream",
     "text": [
      "   Gender  gender_above70  gender  Percentage\n",
      "0  Female            1232    2690   45.799257\n",
      "1    Male            1686    3688   45.715835\n"
     ]
    }
   ],
   "source": [
    "# Students with scores above 67\n",
    "above_67 = df[df['Exam_Score'] > 67]\n",
    "\n",
    "# Group by gender and count male and female students who scored above 67\n",
    "grouped_data = above_67.groupby('Gender').size().reset_index(name='gender_above70')\n",
    "\n",
    "# Group data by gender\n",
    "grouped_data2 = df.groupby('Gender').size().reset_index(name='gender')\n",
    "\n",
    "# Merge the two grouped data to calculate percentages\n",
    "result = pd.merge(grouped_data, grouped_data2, on = 'Gender')\n",
    "result['Percentage'] = (result['gender_above70'] / result['gender']) * 100\n",
    "\n",
    "print(result)"
   ]
  },
  {
   "cell_type": "code",
   "execution_count": 104,
   "id": "72b343c9",
   "metadata": {},
   "outputs": [
    {
     "name": "stdout",
     "output_type": "stream",
     "text": [
      "  Parental_Involvement  Parentimpactonscores  Parentinvolvement  Percentage\n",
      "0                 High                  1008               1836   54.901961\n",
      "1                  Low                   460               1291   35.631294\n",
      "2               Medium                  1450               3251   44.601661\n"
     ]
    }
   ],
   "source": [
    "# Parental involvement\n",
    "ParentalInvolvement = df['Parental_Involvement'].value_counts()\n",
    "\n",
    "# Filter for scores above 67\n",
    "above_67 = df[df['Exam_Score'] > 67]\n",
    "\n",
    "# Group by parental Involvement and count the number of students above 67\n",
    "grouped_data = above_67.groupby('Parental_Involvement').size().reset_index(name='Parentimpactonscores')\n",
    "\n",
    "# Group by parental involvement and count parental involvement in each level\n",
    "grouped_data2 = df.groupby('Parental_Involvement').size().reset_index(name='Parentinvolvement')\n",
    "\n",
    "# Merge the two grouped data to calculate percentages\n",
    "result = pd.merge(grouped_data, grouped_data2, on = 'Parental_Involvement')\n",
    "result['Percentage'] = (result['Parentimpactonscores'] / result['Parentinvolvement']) * 100\n",
    "\n",
    "print(result)"
   ]
  },
  {
   "cell_type": "code",
   "execution_count": 105,
   "id": "88fe2798",
   "metadata": {},
   "outputs": [
    {
     "name": "stdout",
     "output_type": "stream",
     "text": [
      "  Family_Income  Family_income_above67  FamilyIncome  Percentage\n",
      "0          High                    644          1230   52.357724\n",
      "1           Low                   1061          2582   41.092177\n",
      "2        Medium                   1213          2566   47.272019\n"
     ]
    }
   ],
   "source": [
    "# Family Income\n",
    "FamilyIncome = df['Family_Income'].value_counts()\n",
    "\n",
    "# Filter for scores above 67\n",
    "above_67 = df[df['Exam_Score'] > 67 ]\n",
    "\n",
    "# Group by family income and count the scores above 67\n",
    "grouped_data = above_67.groupby('Family_Income').size().reset_index(name='Family_income_above67')\n",
    "\n",
    "# Group by family income and count the family income of students in each level\n",
    "grouped_data2 = df.groupby('Family_Income').size().reset_index(name='FamilyIncome')\n",
    "\n",
    "# Merge the two grouped data to calculate percentages\n",
    "result = pd.merge(grouped_data, grouped_data2, on = 'Family_Income')\n",
    "result['Percentage'] = (result['Family_income_above67'] / result['FamilyIncome']) * 100\n",
    "\n",
    "print(result)\n",
    "\n",
    "\n"
   ]
  },
  {
   "cell_type": "code",
   "execution_count": 106,
   "id": "445d6e15",
   "metadata": {},
   "outputs": [
    {
     "name": "stdout",
     "output_type": "stream",
     "text": [
      "  Parental_Education_Level  PEL_above67  Parentaleducationlevel  Percentage\n",
      "0                  College          904                    1939   46.621970\n",
      "1              High School         1326                    3159   41.975309\n",
      "2             Postgraduate          688                    1280   53.750000\n"
     ]
    }
   ],
   "source": [
    "# Parental education level\n",
    "ParentalEducationLevel = df['Parental_Education_Level'].value_counts()\n",
    "\n",
    "# Filter for scores above 67\n",
    "above_67 = df[df['Exam_Score'] > 67 ]\n",
    "\n",
    "# Group by parental education level and count the scores above 67\n",
    "grouped_data = above_67.groupby('Parental_Education_Level').size().reset_index(name='PEL_above67')\n",
    "\n",
    "# Group by parental education level and count the education level of parents \n",
    "grouped_data2 = df.groupby('Parental_Education_Level').size().reset_index(name='Parentaleducationlevel')\n",
    "\n",
    "# Merge the two grouped data to calculate percentages\n",
    "result = pd.merge(grouped_data, grouped_data2, on = 'Parental_Education_Level')\n",
    "result['Percentage'] = (result['PEL_above67'] / result['Parentaleducationlevel']) * 100\n",
    "\n",
    "print(result)\n"
   ]
  },
  {
   "cell_type": "code",
   "execution_count": 107,
   "id": "76d9f8b8",
   "metadata": {},
   "outputs": [
    {
     "name": "stdout",
     "output_type": "stream",
     "text": [
      "  Access_to_Resources  Atr_above67  AccesstoResources  Percentage\n",
      "0                High         1067               1900   56.157895\n",
      "1                 Low          434               1274   34.065934\n",
      "2              Medium         1417               3204   44.225968\n"
     ]
    }
   ],
   "source": [
    "# Access to resources\n",
    "AccesstoResources = df['Access_to_Resources'].value_counts()\n",
    "\n",
    "# Filter for scores above 67\n",
    "above_67 = df[df['Exam_Score'] > 67 ]\n",
    "\n",
    "# Group by access to resources and count the scores above 67\n",
    "grouped_data = above_67.groupby('Access_to_Resources').size().reset_index(name='Atr_above67')\n",
    "\n",
    "# Group by access to resources and count the students access to resources at all levels\n",
    "grouped_data2 = df.groupby('Access_to_Resources').size().reset_index(name='AccesstoResources')\n",
    "\n",
    "# Merge the two grouped data to calculate percentages\n",
    "result = pd.merge(grouped_data, grouped_data2, on = 'Access_to_Resources')\n",
    "result['Percentage'] = (result['Atr_above67'] / result['AccesstoResources']) * 100\n",
    "\n",
    "print(result)\n",
    "\n"
   ]
  },
  {
   "cell_type": "code",
   "execution_count": 109,
   "id": "1a2de8be",
   "metadata": {},
   "outputs": [
    {
     "name": "stdout",
     "output_type": "stream",
     "text": [
      "  Teacher_Quality  TeacherQuality_above67  TeacherQuality  Percentage\n",
      "0            High                     969            1905   50.866142\n",
      "1             Low                     257             647   39.721793\n",
      "2          Medium                    1692            3826   44.223732\n"
     ]
    }
   ],
   "source": [
    "# Teacher quality\n",
    "Teacherquality = df['Teacher_Quality'].value_counts()\n",
    "\n",
    "# Filter for scores above 67\n",
    "above_67 = df[df['Exam_Score'] > 67 ]\n",
    "\n",
    "# Group by teacher quality and count the scores above 67\n",
    "grouped_data = above_67.groupby('Teacher_Quality').size().reset_index(name='TeacherQuality_above67')\n",
    "\n",
    "# Group by teacher quality and count teachers quality at all levels\n",
    "grouped_data2 = df.groupby('Teacher_Quality').size().reset_index(name='TeacherQuality')\n",
    "\n",
    "# Merge the two grouped data to calculate percentages\n",
    "result = pd.merge(grouped_data, grouped_data2, on = 'Teacher_Quality')\n",
    "result['Percentage'] = (result['TeacherQuality_above67'] / result['TeacherQuality']) * 100\n",
    "\n",
    "print(result)"
   ]
  },
  {
   "cell_type": "code",
   "execution_count": 111,
   "id": "43f69ded",
   "metadata": {},
   "outputs": [
    {
     "name": "stdout",
     "output_type": "stream",
     "text": [
      "  School_Type  Schooltype_above67  Schooltype  Percentage\n",
      "0     Private                 903        1944   46.450617\n",
      "1      Public                2015        4434   45.444294\n"
     ]
    }
   ],
   "source": [
    "# School type\n",
    "SchoolType = df['School_Type'].value_counts()\n",
    "\n",
    "# Filter for scores above 67\n",
    "above_67 = df[df['Exam_Score'] > 67 ]\n",
    "\n",
    "# Group by school type and count the scores above 67\n",
    "grouped_data = above_67.groupby('School_Type').size().reset_index(name='Schooltype_above67')\n",
    "\n",
    "# Group by school type and count how many students attended each school type\n",
    "grouped_data2 = df.groupby('School_Type').size().reset_index(name='Schooltype')\n",
    "\n",
    "# Merge the two grouped data to calculate percentages\n",
    "result = pd.merge(grouped_data, grouped_data2, on = 'School_Type')\n",
    "result['Percentage'] = (result['Schooltype_above67'] / result['Schooltype']) * 100\n",
    "\n",
    "print(result)"
   ]
  },
  {
   "cell_type": "code",
   "execution_count": 112,
   "id": "35675fef",
   "metadata": {},
   "outputs": [
    {
     "name": "stdout",
     "output_type": "stream",
     "text": [
      "  Extracurricular_Activities  EA_above67  ExtraActivities  Percentage\n",
      "0                         No        1114             2571   43.329444\n",
      "1                        Yes        1804             3807   47.386393\n"
     ]
    }
   ],
   "source": [
    "# Extracurricular activities\n",
    "ExtracurricularActivities = df['Extracurricular_Activities'].value_counts()\n",
    "\n",
    "# Filter for scores above 67\n",
    "above_67 = df[df['Exam_Score'] > 67 ]\n",
    "\n",
    "# Group by extracurricular activities and count the scores above 70\n",
    "grouped_data = above_67.groupby('Extracurricular_Activities').size().reset_index(name='EA_above67')\n",
    "\n",
    "# Group by extracurricular activities and count students that either participated or not \n",
    "grouped_data2 = df.groupby('Extracurricular_Activities').size().reset_index(name='ExtraActivities')\n",
    "\n",
    "# Merge the two grouped data to calculate percentages\n",
    "result = pd.merge(grouped_data, grouped_data2, on = 'Extracurricular_Activities')\n",
    "result['Percentage'] = (result['EA_above67'] / result['ExtraActivities']) * 100\n",
    "\n",
    "print(result)"
   ]
  },
  {
   "cell_type": "code",
   "execution_count": 113,
   "id": "ca0b402f",
   "metadata": {},
   "outputs": [
    {
     "name": "stdout",
     "output_type": "stream",
     "text": [
      "  Internet_Access  InternetAccess_above67  InternetAccess  Percentage\n",
      "0              No                     181             485   37.319588\n",
      "1             Yes                    2737            5893   46.444935\n"
     ]
    }
   ],
   "source": [
    "# Internet access\n",
    "InternetAccess = df['Internet_Access'].value_counts()\n",
    "\n",
    "# Filter scores above 67\n",
    "above_67 = df[df['Exam_Score'] > 67]\n",
    "\n",
    "# Group by internet access and count the scores above 67\n",
    "grouped_data = above_67.groupby('Internet_Access').size().reset_index(name='InternetAccess_above67')\n",
    "\n",
    "# Group by internet access and count students that either had internet access or not\n",
    "grouped_data2 = df.groupby('Internet_Access').size().reset_index(name='InternetAccess')\n",
    "\n",
    "# Merge the two grouped data to calculate percentages\n",
    "result = pd.merge(grouped_data, grouped_data2, on ='Internet_Access')\n",
    "result['Percentage'] = (result['InternetAccess_above67'] / result['InternetAccess']) * 100\n",
    "\n",
    "print(result)\n",
    "\n"
   ]
  },
  {
   "cell_type": "code",
   "execution_count": 114,
   "id": "aeab5a60",
   "metadata": {},
   "outputs": [
    {
     "name": "stdout",
     "output_type": "stream",
     "text": [
      "  Motivation_Level  Motivationlevel_above67  Motivationlevel  Percentage\n",
      "0             High                      633             1277   49.569303\n",
      "1              Low                      758             1864   40.665236\n",
      "2           Medium                     1527             3237   47.173309\n"
     ]
    }
   ],
   "source": [
    "# Motivation level\n",
    "MotivationLevel = df['Motivation_Level'].value_counts()\n",
    "\n",
    "# Filter scores above 67\n",
    "above_67 = df[df['Exam_Score'] > 67]\n",
    "\n",
    "# Group by motivation level and count the scores above 67\n",
    "grouped_data = above_67.groupby('Motivation_Level').size().reset_index(name='Motivationlevel_above67')\n",
    "\n",
    "# Group by motivation level and count students that were motivated or not\n",
    "grouped_data2 = df.groupby('Motivation_Level').size().reset_index(name='Motivationlevel')\n",
    "\n",
    "# Merge the two grouped data to calculate percentages\n",
    "result = pd.merge(grouped_data, grouped_data2, on ='Motivation_Level')\n",
    "result['Percentage'] = (result['Motivationlevel_above67'] / result['Motivationlevel']) * 100\n",
    "\n",
    "print(result)"
   ]
  },
  {
   "cell_type": "code",
   "execution_count": 115,
   "id": "b6e7c1fe",
   "metadata": {},
   "outputs": [
    {
     "name": "stdout",
     "output_type": "stream",
     "text": [
      "  Peer_Influence  Peerinfluence_above67  Peerinfluence  Percentage\n",
      "0       Negative                    509           1330   38.270677\n",
      "1        Neutral                   1135           2495   45.490982\n",
      "2       Positive                   1274           2553   49.902076\n"
     ]
    }
   ],
   "source": [
    "# Peer influence\n",
    "PeerInfluence = df['Peer_Influence'].value_counts()\n",
    "\n",
    "# Filter scores above 67\n",
    "above_67 = df[df['Exam_Score'] > 67]\n",
    "\n",
    "# Group by peer influence and count the scores above 67\n",
    "grouped_data = above_67.groupby('Peer_Influence').size().reset_index(name='Peerinfluence_above67')\n",
    "\n",
    "# Group by peer influence and count peer influence at each levels\n",
    "grouped_data2 = df.groupby('Peer_Influence').size().reset_index(name='Peerinfluence')\n",
    "\n",
    "# Merge the two grouped data to calculate percentages\n",
    "result = pd.merge(grouped_data, grouped_data2, on ='Peer_Influence')\n",
    "result['Percentage'] = (result['Peerinfluence_above67'] / result['Peerinfluence']) * 100\n",
    "\n",
    "print(result)"
   ]
  },
  {
   "cell_type": "code",
   "execution_count": 116,
   "id": "c66d0865",
   "metadata": {},
   "outputs": [
    {
     "name": "stdout",
     "output_type": "stream",
     "text": [
      "  Learning_Disabilities  LD_above67  Learningdisabilities  Percentage\n",
      "0                    No        2689                  5710   47.092820\n",
      "1                   Yes         229                   668   34.281437\n"
     ]
    }
   ],
   "source": [
    "# Learning disabilities\n",
    "LeatningDisabilities = df['Learning_Disabilities'].value_counts()\n",
    "\n",
    "# Filter scores above 67\n",
    "above_67 = df[df['Exam_Score'] > 67]\n",
    "\n",
    "# Group by learning disabilities and count the scores above 67\n",
    "grouped_data = above_67.groupby('Learning_Disabilities').size().reset_index(name='LD_above67')\n",
    "\n",
    "# Group by learning disabilities and count student that were affected or not\n",
    "grouped_data2 = df.groupby('Learning_Disabilities').size().reset_index(name='Learningdisabilities')\n",
    "\n",
    "# Merge the two grouped data to calculate percentages\n",
    "result = pd.merge(grouped_data, grouped_data2, on ='Learning_Disabilities')\n",
    "result['Percentage'] = (result['LD_above67'] / result['Learningdisabilities']) * 100\n",
    "\n",
    "print(result)"
   ]
  },
  {
   "cell_type": "code",
   "execution_count": 117,
   "id": "32c11fcc",
   "metadata": {},
   "outputs": [
    {
     "name": "stdout",
     "output_type": "stream",
     "text": [
      "  Distance_from_Home  Dfh_above67   Dfh  Percentage\n",
      "0                Far          233   636   36.635220\n",
      "1           Moderate          831  1941   42.812983\n",
      "2               Near         1854  3801   48.776638\n"
     ]
    }
   ],
   "source": [
    "# Distance from home\n",
    "Distance_from_home = df['Distance_from_Home'].value_counts()\n",
    "\n",
    "# Filter scores above 67\n",
    "above_67 = df[df['Exam_Score'] > 67]\n",
    "\n",
    "# Group by distance from home and count the scores above 67\n",
    "grouped_data = above_67.groupby('Distance_from_Home').size().reset_index(name='Dfh_above67')\n",
    "\n",
    "# Group by distance from home and count distance from home at each levels\n",
    "grouped_data2 = df.groupby('Distance_from_Home').size().reset_index(name='Dfh')\n",
    "\n",
    "# Merge the two grouped data to calculate percentages\n",
    "result = pd.merge(grouped_data, grouped_data2, on ='Distance_from_Home')\n",
    "result['Percentage'] = (result['Dfh_above67'] / result['Dfh']) * 100\n",
    "\n",
    "print(result)"
   ]
  },
  {
   "cell_type": "code",
   "execution_count": 118,
   "id": "19548b34",
   "metadata": {},
   "outputs": [
    {
     "name": "stdout",
     "output_type": "stream",
     "text": [
      "  study_category  HS_above67  Hoursstudied  Percentage\n",
      "0          Short         290          1451   19.986216\n",
      "1         Medium        2419          4683   51.654922\n",
      "2           Long         209           244   85.655738\n"
     ]
    }
   ],
   "source": [
    "# Study hours\n",
    "# Categorize students based on study hours\n",
    "df['study_category'] = pd.cut(df['Hours_Studied'], \n",
    "                                       bins=[0, 15, 30, float('inf')], \n",
    "                                       labels=['Short', 'Medium', 'Long'])\n",
    "\n",
    "# Filter for students who scored above 67 in each category\n",
    "df_filtered = df[df['Exam_Score'] > 67]\n",
    "\n",
    "# Group the data by study category and count the number of students in each category\n",
    "grouped_data = df_filtered.groupby('study_category')['Exam_Score'].count().reset_index(name='HS_above67')\n",
    "\n",
    "# Group the original data by study category and count the total number of students in each category\n",
    "grouped_data2  = df.groupby('study_category')['Exam_Score'].count().reset_index(name='Hoursstudied')\n",
    "\n",
    "# Calculate the percentage of students who scored above 67 in each category\n",
    "result = pd.merge(grouped_data, grouped_data2, on = 'study_category')\n",
    "result['Percentage'] = (result['HS_above67'] / result['Hoursstudied']) * 100\n",
    "                                                    \n",
    "print(result)"
   ]
  },
  {
   "cell_type": "code",
   "execution_count": 119,
   "id": "6ed27255",
   "metadata": {},
   "outputs": [
    {
     "name": "stdout",
     "output_type": "stream",
     "text": [
      "  attendance_category  AC_above67  Attendancecategory  Percentage\n",
      "0                Poor         314                2300   13.652174\n",
      "1             Average        1188                2386   49.790444\n",
      "2                Good        1416                1692   83.687943\n"
     ]
    }
   ],
   "source": [
    "# Attendance\n",
    "# Categorize students based on attendance\n",
    "df['attendance_category'] = pd.cut(df['Attendance'], \n",
    "                                       bins=[59, 74, 89, float('inf')], \n",
    "                                       labels=['Poor', 'Average', 'Good'])\n",
    "\n",
    "# Filter for students who scored above 67 in each category\n",
    "df_filtered = df[df['Exam_Score'] > 67]\n",
    "\n",
    "# Group the data by attendance category and count the number of students in each category\n",
    "grouped_data = df_filtered.groupby('attendance_category')['Exam_Score'].count().reset_index(name='AC_above67')\n",
    "\n",
    "# Group the original data by attendance category and count the total number of students in each category\n",
    "grouped_data2  = df.groupby('attendance_category')['Exam_Score'].count().reset_index(name='Attendancecategory')\n",
    "\n",
    "# Calculate the percentage of students who scored above 67 in each category\n",
    "result = pd.merge(grouped_data, grouped_data2, on = 'attendance_category')\n",
    "result['Percentage'] = (result['AC_above67'] / result['Attendancecategory']) * 100\n",
    "                                                    \n",
    "print(result)"
   ]
  },
  {
   "cell_type": "code",
   "execution_count": 120,
   "id": "3f67b94c",
   "metadata": {},
   "outputs": [
    {
     "name": "stdout",
     "output_type": "stream",
     "text": [
      "  sleephours_category  SH_above67  SHcategory  Percentage\n",
      "0               short        1042        2286   45.581802\n",
      "1                long        1876        4092   45.845552\n"
     ]
    }
   ],
   "source": [
    "# Sleep hours\n",
    "# Categorize students based on sleep hours\n",
    "df['sleephours_category']= pd.cut(df['Sleep_Hours'],\n",
    "                                       bins=[3, 6, float('inf')], \n",
    "                                       labels=['short','long'])\n",
    "\n",
    "# Filter for students who scored above 67 in each category\n",
    "df_filtered = df[df['Exam_Score'] > 67]\n",
    "\n",
    "# Group the data by sleep hours category and count the students in each category\n",
    "grouped_data = df_filtered.groupby('sleephours_category')['Exam_Score'].count().reset_index(name='SH_above67')\n",
    "\n",
    "# Group the original data by sleep hours category and count the total number of students in each category\n",
    "grouped_data2  = df.groupby('sleephours_category')['Exam_Score'].count().reset_index(name='SHcategory')\n",
    "\n",
    "# Calculate the percentage of students who scored above 67 in each category\n",
    "result = pd.merge(grouped_data, grouped_data2, on = 'sleephours_category')\n",
    "result['Percentage'] = (result['SH_above67'] / result['SHcategory']) * 100\n",
    "                                                    \n",
    "print(result)"
   ]
  },
  {
   "cell_type": "code",
   "execution_count": 60,
   "id": "7226b053",
   "metadata": {},
   "outputs": [
    {
     "name": "stdout",
     "output_type": "stream",
     "text": [
      "  tutoringsession_category  TS_above70  TS_category  Percentage\n",
      "0                      Low         597         3697   16.148228\n",
      "1                 Moderate         272         1197   22.723475\n",
      "2                     High          15           26   57.692308\n"
     ]
    }
   ],
   "source": [
    "# Tutoring sessions\n",
    "# Categorize students based on tutoring sessions\n",
    "df['tutoringsession_category'] = pd.cut(df['Tutoring_Sessions'], \n",
    "                                       bins=[0, 2, 5, float('inf')], \n",
    "                                       labels=['Low', 'Moderate', 'High'])\n",
    "\n",
    "# Filter for students who scored above 70 in each category\n",
    "df_filtered = df[df['Exam_Score'] > 70]\n",
    "\n",
    "# Group the data by tutoring sessions category and count the number of students in each category\n",
    "grouped_data = df_filtered.groupby('tutoringsession_category')['Exam_Score'].count().reset_index(name='TS_above70')\n",
    "\n",
    "# Group the original data by tutoring sessions category and count the total number of students in each category\n",
    "grouped_data2  = df.groupby('tutoringsession_category')['Exam_Score'].count().reset_index(name='TS_category')\n",
    "\n",
    "# Calculate the percentage of students who scored above 70 in each category\n",
    "result = pd.merge(grouped_data, grouped_data2, on = 'tutoringsession_category')\n",
    "result['Percentage'] = (result['TS_above70'] / result['TS_category']) * 100\n",
    "                                                    \n",
    "print(result)"
   ]
  },
  {
   "cell_type": "code",
   "execution_count": 121,
   "id": "6ad4adb3",
   "metadata": {},
   "outputs": [
    {
     "name": "stdout",
     "output_type": "stream",
     "text": [
      "  physicalactivity_category  PA_above67  PA_category  Percentage\n",
      "0                       Low         886         1962   45.158002\n",
      "1                  Moderate        1838         3995   46.007509\n",
      "2                      High         171          377   45.358090\n"
     ]
    }
   ],
   "source": [
    "# Physical activity\n",
    "# Categorize students based on physical activity\n",
    "df['physicalactivity_category'] = pd.cut(df['Physical_Activity'], \n",
    "                                       bins=[0, 2, 4, float('inf')], \n",
    "                                       labels=['Low', 'Moderate', 'High'])\n",
    "\n",
    "# Filter for students who scored above 67 in each category\n",
    "df_filtered = df[df['Exam_Score'] > 67]\n",
    "\n",
    "# Group the data by physical activity category and count the number of students in each category\n",
    "grouped_data = df_filtered.groupby('physicalactivity_category')['Exam_Score'].count().reset_index(name='PA_above67')\n",
    "\n",
    "# Group the original data by physicalactivity category and count the total number of students in each category\n",
    "grouped_data2  = df.groupby('physicalactivity_category')['Exam_Score'].count().reset_index(name='PA_category')\n",
    "\n",
    "# Calculate the percentage of students who scored above 67 in each category\n",
    "result = pd.merge(grouped_data, grouped_data2, on = 'physicalactivity_category')\n",
    "result['Percentage'] = (result['PA_above67'] / result['PA_category']) * 100\n",
    "                                                    \n",
    "print(result)"
   ]
  },
  {
   "cell_type": "code",
   "execution_count": 72,
   "id": "6db32060",
   "metadata": {},
   "outputs": [],
   "source": [
    "# Import spearman library\n",
    "from scipy.stats import spearmanr"
   ]
  },
  {
   "cell_type": "code",
   "execution_count": 122,
   "id": "55568e53",
   "metadata": {},
   "outputs": [
    {
     "name": "stdout",
     "output_type": "stream",
     "text": [
      "Spearman's Correlation Coefficient: 0.4823434297013267\n",
      "p-value: 0.0\n",
      "Spearman's Correlation Coefficient: 0.3178478664071806\n",
      "p-value: 1.6920022984660306e-69\n"
     ]
    }
   ],
   "source": [
    "# Analysis of relationship between study hours and exam score\n",
    "\n",
    "# Calculate Spearman's correlation coefficient and p-value\n",
    "corr, p_value = spearmanr(df['Hours_Studied'], df['Exam_Score'])\n",
    "\n",
    "print(\"Spearman's Correlation Coefficient:\", corr)\n",
    "print(\"p-value:\", p_value)\n",
    "\n",
    "# Filter for students who scored above 67\n",
    "df_above67 = df[df['Exam_Score'] > 67]\n",
    "\n",
    "# ANalysis of relationship for only students who scored above 67\n",
    "corr, p_value = spearmanr(df_above67['Hours_Studied'], df_above67['Exam_Score'])\n",
    "print(\"Spearman's Correlation Coefficient:\", corr)\n",
    "print(\"p-value:\", p_value)\n"
   ]
  },
  {
   "cell_type": "code",
   "execution_count": 123,
   "id": "4fcb0a66",
   "metadata": {},
   "outputs": [
    {
     "name": "stdout",
     "output_type": "stream",
     "text": [
      "Spearman's Correlation Coefficient: 0.6741091133193648\n",
      "p-value: 0.0\n",
      "Spearman's Correlation Coefficient: 0.3618450320753274\n",
      "p-value: 5.630029462028899e-91\n"
     ]
    }
   ],
   "source": [
    "# Analysis of relationship between attendance and exam score\n",
    "\n",
    "# Calculate Spearman's correlation coefficient and p-value\n",
    "corr, p_value = spearmanr(df['Attendance'], df['Exam_Score'])\n",
    "\n",
    "print(\"Spearman's Correlation Coefficient:\", corr)\n",
    "print(\"p-value:\", p_value)\n",
    "\n",
    "# Filter for students who scored above 67\n",
    "df_above67 = df[df['Exam_Score'] > 67]\n",
    "\n",
    "# Analysis of relationship for only students who scored above 67\n",
    "corr, p_value = spearmanr(df_above67['Attendance'], df_above67['Exam_Score'])\n",
    "print(\"Spearman's Correlation Coefficient:\", corr)\n",
    "print(\"p-value:\", p_value)"
   ]
  },
  {
   "cell_type": "code",
   "execution_count": 124,
   "id": "91b6f75b",
   "metadata": {},
   "outputs": [
    {
     "name": "stdout",
     "output_type": "stream",
     "text": [
      "Spearman's Correlation Coefficient: -0.0065255824031056385\n",
      "p-value: 0.6023305807438235\n",
      "Spearman's Correlation Coefficient: -0.016658223393150984\n",
      "p-value: 0.3683707665850261\n"
     ]
    }
   ],
   "source": [
    "# Analysis of relationship between sleep hours and exam score\n",
    "\n",
    "# Calculate Spearman's correlation coefficient and p-value\n",
    "corr, p_value = spearmanr(df['Sleep_Hours'], df['Exam_Score'])\n",
    "\n",
    "print(\"Spearman's Correlation Coefficient:\", corr)\n",
    "print(\"p-value:\", p_value)\n",
    "\n",
    "# Filter for students who scored above 67\n",
    "df_above67 = df[df['Exam_Score'] > 67]\n",
    "\n",
    "# Analysis of relationship for only students who scored above 67\n",
    "corr, p_value = spearmanr(df_above67['Sleep_Hours'], df_above67['Exam_Score'])\n",
    "print(\"Spearman's Correlation Coefficient:\", corr)\n",
    "print(\"p-value:\", p_value)\n"
   ]
  },
  {
   "cell_type": "code",
   "execution_count": 126,
   "id": "9c7d0c2f",
   "metadata": {},
   "outputs": [
    {
     "name": "stdout",
     "output_type": "stream",
     "text": [
      "Spearman's Correlation Coefficient: 0.16429424492348096\n",
      "p-value: 7.868135567485047e-40\n",
      "Spearman's Correlation Coefficient: 0.07624582245816174\n",
      "p-value: 3.740933498981286e-05\n"
     ]
    }
   ],
   "source": [
    "# Analysis of relationship between tutoring session and exam score\n",
    "\n",
    "# Calculate Spearman's correlation coefficient and p-value\n",
    "corr, p_value = spearmanr(df['Tutoring_Sessions'], df['Exam_Score'])\n",
    "\n",
    "print(\"Spearman's Correlation Coefficient:\", corr)\n",
    "print(\"p-value:\", p_value)\n",
    "\n",
    "# Filter for students who scored above 67\n",
    "df_above67 = df[df['Exam_Score'] > 67]\n",
    "\n",
    "# Analysis of relationship for only students who scored above 67\n",
    "corr, p_value = spearmanr(df_above67['Tutoring_Sessions'], df_above67['Exam_Score'])\n",
    "print(\"Spearman's Correlation Coefficient:\", corr)\n",
    "print(\"p-value:\", p_value)"
   ]
  },
  {
   "cell_type": "code",
   "execution_count": 127,
   "id": "f1099ea4",
   "metadata": {},
   "outputs": [
    {
     "name": "stdout",
     "output_type": "stream",
     "text": [
      "Spearman's Correlation Coefficient: 0.026178534636574827\n",
      "p-value: 0.03656136959387095\n",
      "Spearman's Correlation Coefficient: 0.03966470800361553\n",
      "p-value: 0.032148949717047876\n"
     ]
    }
   ],
   "source": [
    "# Analysis of relationship between physical activity and exam score\n",
    "\n",
    "# Calculate Spearman's correlation coefficient and p-value\n",
    "corr, p_value = spearmanr(df['Physical_Activity'], df['Exam_Score'])\n",
    "\n",
    "print(\"Spearman's Correlation Coefficient:\", corr)\n",
    "print(\"p-value:\", p_value)\n",
    "\n",
    "# Filter for students who scored above 67\n",
    "df_above67 = df[df['Exam_Score'] > 67]\n",
    "\n",
    "# Analysis of relationship for only students who scored above 67\n",
    "corr, p_value = spearmanr(df_above67['Physical_Activity'], df_above67['Exam_Score'])\n",
    "print(\"Spearman's Correlation Coefficient:\", corr)\n",
    "print(\"p-value:\", p_value)"
   ]
  },
  {
   "cell_type": "code",
   "execution_count": 82,
   "id": "373dd031",
   "metadata": {},
   "outputs": [],
   "source": [
    "# Importation of necessary libraries for anova analysis\n",
    "import statsmodels.api as sm\n",
    "from statsmodels.formula.api import ols\n"
   ]
  },
  {
   "cell_type": "code",
   "execution_count": 129,
   "id": "8fd7d734",
   "metadata": {},
   "outputs": [
    {
     "name": "stdout",
     "output_type": "stream",
     "text": [
      "                             df        sum_sq      mean_sq          F  \\\n",
      "C(Parental_Involvement)     2.0   2407.334653  1203.667327  80.578375   \n",
      "Residual                 6375.0  95228.765848    14.937846        NaN   \n",
      "\n",
      "                               PR(>F)  \n",
      "C(Parental_Involvement)  2.755910e-35  \n",
      "Residual                          NaN  \n",
      "                             df        sum_sq    mean_sq         F    PR(>F)\n",
      "C(Parental_Involvement)     2.0    133.292885  66.646443  6.395697  0.001692\n",
      "Residual                 2915.0  30375.793132  10.420512       NaN       NaN\n"
     ]
    }
   ],
   "source": [
    "# Analysis of relationship between parental involvement and exam scores\n",
    "\n",
    "model = ols('Exam_Score ~ C(Parental_Involvement)', data=df).fit()\n",
    "anova_table = sm.stats.anova_lm(model, typ=1)\n",
    "print(anova_table)\n",
    "\n",
    "# Filter data for students who scored above 67\n",
    "df_above67 = df[df['Exam_Score'] > 67]\n",
    "\n",
    "# Analysis of relationship for only students who scored above 67\n",
    "model = ols('Exam_Score ~ C(Parental_Involvement)', data=df_above67).fit()\n",
    "anova_table = sm.stats.anova_lm(model, typ=1)\n",
    "print(anova_table)"
   ]
  },
  {
   "cell_type": "code",
   "execution_count": 130,
   "id": "31782936",
   "metadata": {},
   "outputs": [
    {
     "name": "stdout",
     "output_type": "stream",
     "text": [
      "                      df        sum_sq     mean_sq          F        PR(>F)\n",
      "C(Family_Income)     2.0    873.161897  436.580948  28.763115  3.667429e-13\n",
      "Residual          6375.0  96762.938605   15.178500        NaN           NaN\n",
      "                      df        sum_sq    mean_sq         F    PR(>F)\n",
      "C(Family_Income)     2.0     48.460073  24.230037  2.318749  0.098578\n",
      "Residual          2915.0  30460.625945  10.449614       NaN       NaN\n"
     ]
    }
   ],
   "source": [
    "# Analysis of relationship between family income and exam scores\n",
    "\n",
    "model = ols('Exam_Score ~ C(Family_Income)', data=df).fit()\n",
    "anova_table = sm.stats.anova_lm(model, typ=1)\n",
    "print(anova_table)\n",
    "\n",
    "# Filter data for students who scored above 67\n",
    "df_above67 = df[df['Exam_Score'] > 67]\n",
    "\n",
    "# Analysis of relationship for only students who scored above 67\n",
    "model = ols('Exam_Score ~ C(Family_Income)', data=df_above67).fit()\n",
    "anova_table = sm.stats.anova_lm(model, typ=1)\n",
    "print(anova_table)"
   ]
  },
  {
   "cell_type": "code",
   "execution_count": 133,
   "id": "f903b17b",
   "metadata": {},
   "outputs": [
    {
     "name": "stdout",
     "output_type": "stream",
     "text": [
      "                                 df        sum_sq     mean_sq          F  \\\n",
      "C(Parental_Education_Level)     2.0   1090.270463  545.135232  35.995725   \n",
      "Residual                     6375.0  96545.830038   15.144444        NaN   \n",
      "\n",
      "                                   PR(>F)  \n",
      "C(Parental_Education_Level)  2.850133e-16  \n",
      "Residual                              NaN  \n",
      "                                 df        sum_sq    mean_sq         F  \\\n",
      "C(Parental_Education_Level)     2.0     20.477849  10.238924  0.978938   \n",
      "Residual                     2915.0  30488.608169  10.459214       NaN   \n",
      "\n",
      "                               PR(>F)  \n",
      "C(Parental_Education_Level)  0.375833  \n",
      "Residual                          NaN  \n"
     ]
    }
   ],
   "source": [
    "# Analysis of relationship between parental education level and exam scores\n",
    "\n",
    "model = ols('Exam_Score ~ C(Parental_Education_Level)', data=df).fit()\n",
    "anova_table = sm.stats.anova_lm(model, typ=1)\n",
    "print(anova_table)\n",
    "\n",
    "# Filter data for students who scored above 67\n",
    "df_above67 = df[df['Exam_Score'] > 67]\n",
    "\n",
    "# Analysis of relationship for only students who scored above 67\n",
    "model = ols('Exam_Score ~ C(Parental_Education_Level)', data=df_above67).fit()\n",
    "anova_table = sm.stats.anova_lm(model, typ=1)\n",
    "print(anova_table)\n"
   ]
  },
  {
   "cell_type": "code",
   "execution_count": 134,
   "id": "45069792",
   "metadata": {},
   "outputs": [
    {
     "name": "stdout",
     "output_type": "stream",
     "text": [
      "                            df        sum_sq      mean_sq          F  \\\n",
      "C(Access_to_Resources)     2.0   2753.102802  1376.551401  92.487752   \n",
      "Residual                6375.0  94882.997700    14.883607        NaN   \n",
      "\n",
      "                              PR(>F)  \n",
      "C(Access_to_Resources)  2.539709e-40  \n",
      "Residual                         NaN  \n",
      "                            df        sum_sq    mean_sq         F    PR(>F)\n",
      "C(Access_to_Resources)     2.0    183.898130  91.949065  8.838578  0.000149\n",
      "Residual                2915.0  30325.187888  10.403152       NaN       NaN\n"
     ]
    }
   ],
   "source": [
    "# Analysis of relationship between access to resources and exam scores\n",
    "\n",
    "model = ols('Exam_Score ~ C(Access_to_Resources)', data=df).fit()\n",
    "anova_table = sm.stats.anova_lm(model, typ=1)\n",
    "print(anova_table)\n",
    "\n",
    "# Filter data for students who scored above 67\n",
    "df_above67 = df[df['Exam_Score'] > 67]\n",
    "\n",
    "# Analysis of relationship for only students who scored above 67\n",
    "model = ols('Exam_Score ~ C(Access_to_Resources)', data=df_above67).fit()\n",
    "anova_table = sm.stats.anova_lm(model, typ=1)\n",
    "print(anova_table)"
   ]
  },
  {
   "cell_type": "code",
   "execution_count": 135,
   "id": "2562cc64",
   "metadata": {},
   "outputs": [
    {
     "name": "stdout",
     "output_type": "stream",
     "text": [
      "                        df        sum_sq     mean_sq          F        PR(>F)\n",
      "C(Teacher_Quality)     2.0    565.880638  282.940319  18.581853  8.983287e-09\n",
      "Residual            6375.0  97070.219864   15.226701        NaN           NaN\n",
      "                        df        sum_sq    mean_sq         F    PR(>F)\n",
      "C(Teacher_Quality)     2.0     30.046805  15.023403  1.436831  0.237848\n",
      "Residual            2915.0  30479.039213  10.455931       NaN       NaN\n"
     ]
    }
   ],
   "source": [
    "# Analysis of relationship between teacher quality and exam scores\n",
    "\n",
    "model = ols('Exam_Score ~ C(Teacher_Quality)', data=df).fit()\n",
    "anova_table = sm.stats.anova_lm(model, typ=1)\n",
    "print(anova_table)\n",
    "\n",
    "# Filter data for students who scored above 67\n",
    "df_above67 = df[df['Exam_Score'] > 67]\n",
    "\n",
    "# Analysis of relationship for only students who scored above 67\n",
    "model = ols('Exam_Score ~ C(Teacher_Quality)', data=df_above67).fit()\n",
    "anova_table = sm.stats.anova_lm(model, typ=1)\n",
    "print(anova_table)"
   ]
  },
  {
   "cell_type": "code",
   "execution_count": 141,
   "id": "eae0d7b5",
   "metadata": {
    "scrolled": true
   },
   "outputs": [
    {
     "name": "stdout",
     "output_type": "stream",
     "text": [
      "                        df        sum_sq     mean_sq          F    PR(>F)\n",
      "C(Internet_Access)     1.0    256.755282  256.755282  16.811282  0.000042\n",
      "Residual            6376.0  97379.345219   15.272796        NaN       NaN\n",
      "                        df        sum_sq    mean_sq         F    PR(>F)\n",
      "C(Internet_Access)     1.0      1.540042   1.540042  0.147202  0.701252\n",
      "Residual            2916.0  30507.545976  10.462121       NaN       NaN\n"
     ]
    }
   ],
   "source": [
    "# Analysis of relationship between internet access and exam scores\n",
    "\n",
    "model = ols('Exam_Score ~ C(Internet_Access)', data=df).fit()\n",
    "anova_table = sm.stats.anova_lm(model, typ=1)\n",
    "print(anova_table)\n",
    "\n",
    "# Filter data for students who scored above 67\n",
    "df_above67 = df[df['Exam_Score'] > 67]\n",
    "\n",
    "# Analysis of relationship for only students who scored above 67\n",
    "model = ols('Exam_Score ~ C(Internet_Access)', data=df_above67).fit()\n",
    "anova_table = sm.stats.anova_lm(model, typ=1)\n",
    "print(anova_table)\n"
   ]
  },
  {
   "cell_type": "code",
   "execution_count": 138,
   "id": "af9d8917",
   "metadata": {},
   "outputs": [
    {
     "name": "stdout",
     "output_type": "stream",
     "text": [
      "                    df        sum_sq    mean_sq         F    PR(>F)\n",
      "C(School_Type)     1.0     11.596636  11.596636  0.757393  0.384178\n",
      "Residual        6376.0  97624.503865  15.311246       NaN       NaN\n",
      "                    df        sum_sq    mean_sq         F    PR(>F)\n",
      "C(School_Type)     1.0      0.157339   0.157339  0.015038  0.902408\n",
      "Residual        2916.0  30508.928678  10.462596       NaN       NaN\n"
     ]
    }
   ],
   "source": [
    "# Analysis of relationship between school type and exam scores\n",
    "\n",
    "model = ols('Exam_Score ~ C(School_Type)', data=df).fit()\n",
    "anova_table = sm.stats.anova_lm(model, typ=1)\n",
    "print(anova_table)\n",
    "\n",
    "# Filter data for students who scored above 67\n",
    "df_above67 = df[df['Exam_Score'] > 67]\n",
    "\n",
    "# Analysis of relationship for only students who scored above 67\n",
    "model = ols('Exam_Score ~ C(School_Type)', data=df_above67).fit()\n",
    "anova_table = sm.stats.anova_lm(model, typ=1)\n",
    "print(anova_table)"
   ]
  },
  {
   "cell_type": "code",
   "execution_count": 139,
   "id": "3618ba58",
   "metadata": {},
   "outputs": [
    {
     "name": "stdout",
     "output_type": "stream",
     "text": [
      "                                   df        sum_sq     mean_sq          F  \\\n",
      "C(Extracurricular_Activities)     1.0    388.147248  388.147248  25.448627   \n",
      "Residual                       6376.0  97247.953254   15.252188        NaN   \n",
      "\n",
      "                                     PR(>F)  \n",
      "C(Extracurricular_Activities)  4.668892e-07  \n",
      "Residual                                NaN  \n",
      "                                   df        sum_sq    mean_sq         F  \\\n",
      "C(Extracurricular_Activities)     1.0     49.460070  49.460070  4.734975   \n",
      "Residual                       2916.0  30459.625948  10.445688       NaN   \n",
      "\n",
      "                                 PR(>F)  \n",
      "C(Extracurricular_Activities)  0.029635  \n",
      "Residual                            NaN  \n"
     ]
    }
   ],
   "source": [
    "# Analysis of relationship between extracurricular activities and exam scores\n",
    "\n",
    "model = ols('Exam_Score ~ C(Extracurricular_Activities)', data=df).fit()\n",
    "anova_table = sm.stats.anova_lm(model, typ=1)\n",
    "print(anova_table)\n",
    "\n",
    "# Filter data for students who scored above 67\n",
    "df_above67 = df[df['Exam_Score'] > 67]\n",
    "\n",
    "# Analysis of relationship for only students who scored above 67\n",
    "model = ols('Exam_Score ~ C(Extracurricular_Activities)', data=df_above67).fit()\n",
    "anova_table = sm.stats.anova_lm(model, typ=1)\n",
    "print(anova_table)"
   ]
  },
  {
   "cell_type": "code",
   "execution_count": 145,
   "id": "15ac771c",
   "metadata": {},
   "outputs": [
    {
     "name": "stdout",
     "output_type": "stream",
     "text": [
      "                         df        sum_sq     mean_sq         F        PR(>F)\n",
      "C(Motivation_Level)     2.0    777.464456  388.732228  25.58541  8.565555e-12\n",
      "Residual             6375.0  96858.636046   15.193512       NaN           NaN\n",
      "                         df        sum_sq    mean_sq         F    PR(>F)\n",
      "C(Motivation_Level)     2.0     63.460956  31.730478  3.038018  0.048082\n",
      "Residual             2915.0  30445.625061  10.444468       NaN       NaN\n"
     ]
    }
   ],
   "source": [
    "# Analysis of relationship between motivation level and exam scores\n",
    "\n",
    "model = ols('Exam_Score ~ C(Motivation_Level)', data=df).fit()\n",
    "anova_table = sm.stats.anova_lm(model, typ=1)\n",
    "print(anova_table)\n",
    "\n",
    "# Filter data for students who scored above 67\n",
    "df_above67 = df[df['Exam_Score'] > 67]\n",
    "\n",
    "# Analysis of relationship for only students who scored above 67\n",
    "model = ols('Exam_Score ~ C(Motivation_Level)', data=df_above67).fit()\n",
    "anova_table = sm.stats.anova_lm(model, typ=1)\n",
    "print(anova_table)"
   ]
  },
  {
   "cell_type": "code",
   "execution_count": 146,
   "id": "490b7284",
   "metadata": {},
   "outputs": [
    {
     "name": "stdout",
     "output_type": "stream",
     "text": [
      "                       df        sum_sq     mean_sq          F        PR(>F)\n",
      "C(Peer_Influence)     2.0    975.757611  487.878805  32.176871  1.246879e-14\n",
      "Residual           6375.0  96660.342891   15.162407        NaN           NaN\n",
      "                       df        sum_sq    mean_sq        F    PR(>F)\n",
      "C(Peer_Influence)     2.0     56.185649  28.092824  2.68909  0.068111\n",
      "Residual           2915.0  30452.900369  10.446964      NaN       NaN\n"
     ]
    }
   ],
   "source": [
    "# Analysis of relationship between peer influence and exam scores\n",
    "\n",
    "model = ols('Exam_Score ~ C(Peer_Influence)', data=df).fit()\n",
    "anova_table = sm.stats.anova_lm(model, typ=1)\n",
    "print(anova_table)\n",
    "\n",
    "# Filter data for students who scored above 67\n",
    "df_above67 = df[df['Exam_Score'] > 67]\n",
    "\n",
    "# Analysis of relationship for only students who scored above 67\n",
    "model = ols('Exam_Score ~ C(Peer_Influence)', data=df_above67).fit()\n",
    "anova_table = sm.stats.anova_lm(model, typ=1)\n",
    "print(anova_table)"
   ]
  },
  {
   "cell_type": "code",
   "execution_count": 147,
   "id": "f70be37a",
   "metadata": {},
   "outputs": [
    {
     "name": "stdout",
     "output_type": "stream",
     "text": [
      "                              df        sum_sq     mean_sq         F  \\\n",
      "C(Learning_Disabilities)     1.0    687.712421  687.712421  45.22875   \n",
      "Residual                  6376.0  96948.388081   15.205205       NaN   \n",
      "\n",
      "                                PR(>F)  \n",
      "C(Learning_Disabilities)  1.905477e-11  \n",
      "Residual                           NaN  \n",
      "                              df        sum_sq    mean_sq         F    PR(>F)\n",
      "C(Learning_Disabilities)     1.0      1.175826   1.175826  0.112388  0.737466\n",
      "Residual                  2916.0  30507.910192  10.462246       NaN       NaN\n"
     ]
    }
   ],
   "source": [
    "# Analysis of relationship between learning disabilities and exam scores\n",
    "\n",
    "model = ols('Exam_Score ~ C(Learning_Disabilities)', data=df).fit()\n",
    "anova_table = sm.stats.anova_lm(model, typ=1)\n",
    "print(anova_table)\n",
    "\n",
    "# Filter data for students who scored above 67\n",
    "df_above67 = df[df['Exam_Score'] > 67]\n",
    "\n",
    "# Analysis of relationship for only students who scored above 67\n",
    "model = ols('Exam_Score ~ C(Learning_Disabilities)', data=df_above67).fit()\n",
    "anova_table = sm.stats.anova_lm(model, typ=1)\n",
    "print(anova_table)"
   ]
  },
  {
   "cell_type": "code",
   "execution_count": 148,
   "id": "dab65eed",
   "metadata": {},
   "outputs": [
    {
     "name": "stdout",
     "output_type": "stream",
     "text": [
      "                           df        sum_sq     mean_sq          F  \\\n",
      "C(Distance_from_Home)     2.0    758.952792  379.476396  24.971441   \n",
      "Residual               6375.0  96877.147710   15.196415        NaN   \n",
      "\n",
      "                             PR(>F)  \n",
      "C(Distance_from_Home)  1.575074e-11  \n",
      "Residual                        NaN  \n",
      "                           df        sum_sq    mean_sq         F    PR(>F)\n",
      "C(Distance_from_Home)     2.0     24.231548  12.115774  1.158526  0.314093\n",
      "Residual               2915.0  30484.854470  10.457926       NaN       NaN\n"
     ]
    }
   ],
   "source": [
    "# Analysis of relationship between distance from home and exam scores\n",
    "\n",
    "model = ols('Exam_Score ~ C(Distance_from_Home)', data=df).fit()\n",
    "anova_table = sm.stats.anova_lm(model, typ=1)\n",
    "print(anova_table)\n",
    "\n",
    "# Filter data for students who scored above 67\n",
    "df_above67 = df[df['Exam_Score'] > 67]\n",
    "\n",
    "# Analysis of relationship for only students who scored above 67\n",
    "model = ols('Exam_Score ~ C(Distance_from_Home)', data=df_above67).fit()\n",
    "anova_table = sm.stats.anova_lm(model, typ=1)\n",
    "print(anova_table)"
   ]
  },
  {
   "cell_type": "code",
   "execution_count": null,
   "id": "2f525e23",
   "metadata": {},
   "outputs": [],
   "source": []
  }
 ],
 "metadata": {
  "kernelspec": {
   "display_name": "Python 3 (ipykernel)",
   "language": "python",
   "name": "python3"
  },
  "language_info": {
   "codemirror_mode": {
    "name": "ipython",
    "version": 3
   },
   "file_extension": ".py",
   "mimetype": "text/x-python",
   "name": "python",
   "nbconvert_exporter": "python",
   "pygments_lexer": "ipython3",
   "version": "3.11.5"
  }
 },
 "nbformat": 4,
 "nbformat_minor": 5
}
